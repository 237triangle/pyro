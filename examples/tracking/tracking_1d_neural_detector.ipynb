{
 "cells": [
  {
   "cell_type": "markdown",
   "metadata": {},
   "source": [
    "# Tracking an unknown number of objects\n",
    "\n",
    "While SVI can be used to learn components and assignments of a mixture model, pyro.contrib.tracking provides more efficient inference algorithms to estimate assignments. This notebook demonstrates how to use the `MarginalAssignmentPersistent` with EM."
   ]
  },
  {
   "cell_type": "code",
   "execution_count": null,
   "metadata": {},
   "outputs": [],
   "source": [
    "%matplotlib inline\n",
    "from __future__ import absolute_import, division, print_function\n",
    "import math\n",
    "import os\n",
    "import torch\n",
    "from torch.distributions import constraints\n",
    "from torch import nn\n",
    "from matplotlib import pyplot\n",
    "\n",
    "import pyro\n",
    "import pyro.distributions as dist\n",
    "import pyro.poutine as poutine\n",
    "from pyro.contrib.tracking.assignment import MarginalAssignmentPersistent\n",
    "from pyro.contrib.tracking.hashing import LSH, merge_points\n",
    "from pyro.ops.newton import newton_step\n",
    "from pyro.infer import SVI, TraceEnum_ELBO\n",
    "from pyro.optim import ClippedAdam, ASGD, SGD\n",
    "from pyro.util import warn_if_nan\n",
    "from datagen_utils import get_positions, generate_sensor_data, obs2sensor, sensor2obs\n",
    "import plot_utils\n",
    "\n",
    "pyro.enable_validation(True)\n",
    "smoke_test = ('CI' in os.environ)\n",
    "\n",
    "def diag_tensor(tensor):\n",
    "    print(\"shape:{}, mean:{} std:{}, min:{}, max:{}\".format(tensor.shape,tensor.mean(),\n",
    "                                                            tensor.std(),tensor.min(),\n",
    "                                                            tensor.max()))"
   ]
  },
  {
   "cell_type": "markdown",
   "metadata": {},
   "source": [
    "We'll define a global config object to make it easy to port code to `argparse`."
   ]
  },
  {
   "cell_type": "code",
   "execution_count": null,
   "metadata": {},
   "outputs": [],
   "source": [
    "args = type('Args', (object,), {})  # A fake ArgumentParser.parse_args() result.\n",
    "args.num_frames = 40\n",
    "args.max_detections_per_frame = 100\n",
    "args.max_num_objects = 98\n",
    "args.expected_num_objects = 2.\n",
    "\n",
    "args.PNR = 10\n",
    "args.num_sensors=100\n",
    "args.x_min, args.x_max = -2.5, 2.5\n",
    "\n",
    "args.bp_iters = 5\n",
    "args.bp_momentum =0.5\n",
    "args.svi_iters = 201\n",
    "args.em_iters = 50\n",
    "args.merge_radius = -1\n",
    "args.prune_threshold = -1\n",
    "\n",
    "assert args.max_num_objects >= args.expected_num_objects\n",
    "assert args.x_max > args.x_min\n",
    "assert args.max_detections_per_frame >= args.max_num_objects"
   ]
  },
  {
   "cell_type": "markdown",
   "metadata": {},
   "source": [
    "### Plotting Utils"
   ]
  },
  {
   "cell_type": "code",
   "execution_count": null,
   "metadata": {},
   "outputs": [],
   "source": [
    "def plot_solution(sensor_outputs, observations, p_exists, positions,\n",
    "                  true_positions, args, message=''):\n",
    "    fig, ax = pyplot.subplots(figsize=(12,9))\n",
    "    fig.patch.set_color('white')\n",
    "    extent = [-.5, args.num_frames-.5, args.x_min, args.x_max]\n",
    "    cax = ax.matshow(sensor_outputs.t(),aspect='auto',extent=extent, origin='lower',alpha=0.5)\n",
    "    pyplot.colorbar(cax)\n",
    "    plot_utils.plot_solution(observations[...,:-1], p_exists, positions,\n",
    "                             true_positions, args, message='', fig=fig)"
   ]
  },
  {
   "cell_type": "markdown",
   "metadata": {},
   "source": [
    "## Detector\n",
    "This detector has 2 trainable parameters: w and b, where $confidence = sigmoid(wx+b)$"
   ]
  },
  {
   "cell_type": "code",
   "execution_count": null,
   "metadata": {},
   "outputs": [],
   "source": [
    "class Detector(nn.Module):\n",
    "    # returns confidence of sensor sensing the object\n",
    "    def __init__(self, max_detections_per_frame):\n",
    "        super(Detector, self).__init__()\n",
    "        self.linear = nn.Linear(1, 1)\n",
    "        self.sigmoid = nn.Sigmoid()\n",
    "        self.max_detections_per_frame = max_detections_per_frame\n",
    "        nn.init.constant_(self.linear.weight, 1.)\n",
    "        nn.init.constant_(self.linear.bias, 0.)\n",
    "        \n",
    "    def __str__(self):\n",
    "        return \"Detector: w={}, b={}, max_detections_per_frame={}\".format(self.linear.weight.item(),\n",
    "                                                                          self.linear.bias.item(),\n",
    "                                                                       self.max_detections_per_frame)\n",
    "    def forward(self, sensor_positions, sensor_outputs):\n",
    "        # x * w + b\n",
    "        return torch.sigmoid(self.linear((sensor_outputs-0.5).unsqueeze(-1)).squeeze(-1))\n",
    "        \n",
    "detector = Detector(args.max_detections_per_frame)"
   ]
  },
  {
   "cell_type": "markdown",
   "metadata": {},
   "source": [
    "## Model and Guide"
   ]
  },
  {
   "cell_type": "code",
   "execution_count": null,
   "metadata": {},
   "outputs": [],
   "source": [
    "def compute_exists_logits(states_loc, replicates):\n",
    "    FUDGE = -5\n",
    "    # TODO add a term for prior over object location\n",
    "    return states_loc.new_empty(states_loc.shape[0]).fill_(-math.log(replicates) + FUDGE)\n",
    "\n",
    "def compute_assign_logits(positions, observations, replicates, args):\n",
    "    log_likelihood = detection_log_likelihood(positions, observations, args)\n",
    "    assign_logits = log_likelihood[...,:-1] - log_likelihood[...,-1:] - math.log(replicates)\n",
    "    assign_logits[log_likelihood[..., :-1] == -float('inf')] = -float('inf')\n",
    "    #assign_logits -= torch.max(assign_logits, -1, keepdim=True)[0]\n",
    "    return assign_logits\n",
    "\n",
    "def detection_log_likelihood(positions, observations, args):\n",
    "    noise_power = 10 ** (-args.PNR/10)\n",
    "    bin_width = (args.x_max-args.x_min)/args.num_sensors\n",
    "    real_loc_dist = dist.Normal(positions.unsqueeze(-2), bin_width)\n",
    "    real_output_dist = dist.Normal(1., noise_power)\n",
    "    spurious_output_dist = dist.Normal(0., noise_power)\n",
    "    spurious_loc_dist = dist.Uniform(args.x_min, args.x_max)\n",
    "    observed_positions = observations[..., 0].unsqueeze(-1)\n",
    "    observed_outputs = observations[..., 2].unsqueeze(-1)\n",
    "    a = (real_loc_dist.log_prob(observed_positions) +\n",
    "         real_output_dist.log_prob(observed_outputs) + \n",
    "         math.log(args.expected_num_objects)\n",
    "        )\n",
    "    b = (spurious_loc_dist.log_prob(observed_positions) +\n",
    "         spurious_output_dist.log_prob(observed_outputs) +\n",
    "         math.log(args.max_detections_per_frame-args.expected_num_objects)\n",
    "        )\n",
    "    return torch.cat((a,b), dim=-1) "
   ]
  },
  {
   "cell_type": "code",
   "execution_count": null,
   "metadata": {},
   "outputs": [],
   "source": [
    "class DetectorTracker(nn.Module):\n",
    "    def __init__(self, args):\n",
    "        super(DetectorTracker, self).__init__()\n",
    "        self.detector = Detector(args.max_detections_per_frame)\n",
    "        self.num_objects = args.max_num_objects\n",
    "\n",
    "    @poutine.broadcast\n",
    "    def model(self, sensor_positions, sensor_outputs, args):\n",
    "        bin_width = (args.x_max-args.x_min)/args.num_sensors\n",
    "        pyro.module(\"detectorTracker\", self)\n",
    "        confidence = self.detector.forward(sensor_positions, sensor_outputs)\n",
    "        observations = sensor2obs(sensor_positions, sensor_outputs, confidence, args)\n",
    "        with pyro.iarange(\"objects\", self.num_objects):\n",
    "            exists = pyro.sample(\"exists\",\n",
    "                                 dist.Bernoulli(args.expected_num_objects / self.num_objects))\n",
    "            with poutine.scale(scale=exists):\n",
    "                states = pyro.sample(\"states\", dist.Normal(0., 1.).expand([2]).independent(1))\n",
    "                positions = get_positions(states, args.num_frames)\n",
    "\n",
    "        with pyro.iarange(\"detections\", args.max_detections_per_frame):\n",
    "            with pyro.iarange(\"time\", args.num_frames):\n",
    "                # The combinatorial part of the log prob is approximated to allow independence.\n",
    "                assign = pyro.sample(\"assign\",\n",
    "                                     dist.Categorical(torch.ones(self.num_objects)))\n",
    "                is_real = assign < self.num_objects \n",
    "                observed_positions = observations[..., 0]\n",
    "\n",
    "                with poutine.scale(scale=is_real.float()):\n",
    "                    bogus_position = positions.new_zeros(args.num_frames, 1)\n",
    "                    augmented_positions = torch.cat([positions, bogus_position], -1)\n",
    "                    predicted_positions = augmented_positions[:, assign]\n",
    "                    pyro.sample(\"real_observations\",\n",
    "                                dist.Normal(predicted_positions, bin_width))\n",
    "                with poutine.scale(scale=(1-is_real.float())):\n",
    "                    pyro.sample(\"spurious_observations\", dist.Uniform(args.x_min,args.x_max))\n",
    "        observation_hat= torch.stack([observed_positions,is_real.float(),is_real.float()], observed_positions.dim())\n",
    "        sensor_hat = obs2sensor(observation_hat,args)\n",
    "        noise_power = 10 ** (-args.PNR/10)\n",
    "        pyro.sample(\"sensor_output\",\n",
    "            dist.Normal(sensor_hat.view(-1), noise_power).independent(1),\n",
    "            obs=sensor_outputs.view(-1))\n",
    "\n",
    "    @poutine.broadcast    \n",
    "    def guide(self, sensor_positions, sensor_outputs, args):\n",
    "        pyro.module('detectorTracker', self)\n",
    "        bin_width = (args.x_max-args.x_min)/args.num_sensors\n",
    "        confidence = self.detector.forward(sensor_positions, sensor_outputs)\n",
    "        observations = sensor2obs(sensor_positions, sensor_outputs, confidence, args)\n",
    "        if observations.dim() == 3:\n",
    "            states_loc = torch.randn(self.num_objects, 2, requires_grad=True)\n",
    "            for em_iter in range(args.em_iters):\n",
    "                states_loc = states_loc.detach()\n",
    "                states_loc.requires_grad = True\n",
    "                positions = get_positions(states_loc, args.num_frames)\n",
    "                replicates = max(1, states_loc.shape[0]/args.expected_num_objects)\n",
    "                # E-step: compute soft assignments\n",
    "                with torch.no_grad():\n",
    "                    assign_logits = compute_assign_logits(positions, observations, replicates, args)\n",
    "                    exists_logits = compute_exists_logits(states_loc, replicates)\n",
    "                    assignment = MarginalAssignmentPersistent(exists_logits, assign_logits,\n",
    "                                                      args.bp_iters, bp_momentum=args.bp_momentum)\n",
    "                    p_exists = assignment.exists_dist.probs\n",
    "                    p_assign = assignment.assign_dist.probs\n",
    "\n",
    "                log_likelihood = detection_log_likelihood(positions, observations, args)\n",
    "                loss = -(log_likelihood * p_assign).sum()\n",
    "                # M-step\n",
    "                states_loc, _ = newton_step(loss, states_loc, bin_width)  \n",
    "\n",
    "                if args.prune_threshold > 0.0:\n",
    "                    states_loc = states_loc[p_exists > args.prune_threshold]\n",
    "                    self.num_objects = states_loc.shape[0]\n",
    "                if args.merge_radius >= 0.0:\n",
    "                    states_loc, _ = merge_points(states_loc, args.merge_radius)\n",
    "                    self.num_objects = states_loc.shape[0]\n",
    "                warn_if_nan(states_loc, 'states_loc')\n",
    "        else:\n",
    "            print(\"Warning: no object detected, observations.shape:{}\".format(observations.shape))\n",
    "\n",
    "        positions = get_positions(states_loc, args.num_frames)\n",
    "        replicates = max(1, states_loc.shape[0]/args.expected_num_objects)\n",
    "        assign_logits = compute_assign_logits(positions, observations, replicates, args)\n",
    "        exists_logits = compute_exists_logits(states_loc, replicates)\n",
    "        assignment = MarginalAssignmentPersistent(exists_logits, assign_logits,\n",
    "                                          args.bp_iters, bp_momentum=args.bp_momentum)\n",
    "\n",
    "        with pyro.iarange(\"objects\", states_loc.shape[0]):\n",
    "            exists = pyro.sample(\"exists\", assignment.exists_dist, infer={\"enumerate\": \"parallel\"})\n",
    "            with poutine.scale(scale=exists):\n",
    "                pyro.sample(\"states\", dist.Delta(states_loc).independent(1))\n",
    "        with pyro.iarange(\"detections\", observations.shape[1]):\n",
    "            with pyro.iarange(\"time\", args.num_frames):\n",
    "                pyro.sample(\"assign\", assignment.assign_dist, infer={\"enumerate\": \"parallel\"})\n",
    "        return assignment, states_loc, observations"
   ]
  },
  {
   "cell_type": "markdown",
   "metadata": {},
   "source": [
    "## Generate data"
   ]
  },
  {
   "cell_type": "code",
   "execution_count": null,
   "metadata": {},
   "outputs": [],
   "source": [
    "pyro.set_rng_seed(0)\n",
    "true_states, true_positions, sensor_positions, sensor_outputs, true_confidence = generate_sensor_data(args)\n",
    "true_num_objects = len(true_states)\n",
    "assert true_states.shape == (true_num_objects, 2)\n",
    "assert true_positions.shape == (args.num_frames, true_num_objects)"
   ]
  },
  {
   "cell_type": "markdown",
   "metadata": {},
   "source": [
    "## Train\n",
    "Train using SVI + EM"
   ]
  },
  {
   "cell_type": "code",
   "execution_count": null,
   "metadata": {
    "scrolled": false
   },
   "outputs": [],
   "source": [
    "dt = DetectorTracker(args)\n",
    "pyro.set_rng_seed(1)  # Use a different seed from data generation\n",
    "pyro.clear_param_store()\n",
    "assignment, states_loc, observations = dt.guide(sensor_positions, sensor_outputs, args)\n",
    "p_exists = assignment.exists_dist.probs\n",
    "positions = get_positions(states_loc, args.num_frames)\n",
    "plot_solution(sensor_outputs, observations, p_exists, positions,\n",
    "                  true_positions, args, 'Before training')\n",
    "plot_utils.plot_exists_prob(p_exists)"
   ]
  },
  {
   "cell_type": "code",
   "execution_count": null,
   "metadata": {
    "scrolled": false
   },
   "outputs": [],
   "source": [
    "%%time\n",
    "pyro.set_rng_seed(1)  # Use a different seed from data generation\n",
    "pyro.clear_param_store()\n",
    "infer = SVI(dt.model, dt.guide, ClippedAdam({\"lr\": 0.1}), TraceEnum_ELBO(max_iarange_nesting=2))\n",
    "losses = []\n",
    "for epoch in range(args.svi_iters if not smoke_test else 2):\n",
    "    loss = infer.step(sensor_positions, sensor_outputs, args)\n",
    "    if epoch % 10 == 0:\n",
    "        print(\"epoch {: >4d} loss = {}\".format(epoch, loss))\n",
    "    losses.append(loss)\n",
    "pyplot.plot(losses);"
   ]
  },
  {
   "cell_type": "markdown",
   "metadata": {},
   "source": [
    "## Evaluate"
   ]
  },
  {
   "cell_type": "code",
   "execution_count": null,
   "metadata": {
    "scrolled": false
   },
   "outputs": [],
   "source": [
    "pyro.set_rng_seed(1)  # Use a different seed from data generation\n",
    "assignment, states_loc, observations = dt.guide(sensor_positions, sensor_outputs, args)\n",
    "p_exists = assignment.exists_dist.probs\n",
    "positions = get_positions(states_loc, args.num_frames)\n",
    "plot_solution(sensor_outputs, observations, p_exists, positions,\n",
    "              true_positions, args, message='Before training')\n",
    "plot_utils.plot_exists_prob(p_exists)"
   ]
  },
  {
   "cell_type": "code",
   "execution_count": null,
   "metadata": {},
   "outputs": [],
   "source": []
  }
 ],
 "metadata": {
  "kernelspec": {
   "display_name": "Python 3",
   "language": "python",
   "name": "python3"
  },
  "language_info": {
   "codemirror_mode": {
    "name": "ipython",
    "version": 3
   },
   "file_extension": ".py",
   "mimetype": "text/x-python",
   "name": "python",
   "nbconvert_exporter": "python",
   "pygments_lexer": "ipython3",
   "version": "3.6.6"
  }
 },
 "nbformat": 4,
 "nbformat_minor": 2
}
