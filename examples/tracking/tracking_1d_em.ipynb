{
 "cells": [
  {
   "cell_type": "markdown",
   "metadata": {},
   "source": [
    "# Tracking an unknown number of objects\n",
    "\n",
    "While SVI can be used to learn components and assignments of a mixture model, pyro.contrib.tracking provides more efficient inference algorithms to estimate assignments. This notebook demonstrates how to use the `MarginalAssignmentPersistent` with EM."
   ]
  },
  {
   "cell_type": "code",
   "execution_count": null,
   "metadata": {},
   "outputs": [],
   "source": [
    "from __future__ import absolute_import, division, print_function\n",
    "import math\n",
    "import os\n",
    "import torch\n",
    "from torch.distributions import constraints\n",
    "from matplotlib import pyplot\n",
    "\n",
    "import pyro\n",
    "import pyro.distributions as dist\n",
    "import pyro.poutine as poutine\n",
    "from pyro.contrib.tracking.assignment import MarginalAssignmentPersistent\n",
    "from pyro.contrib.tracking.hashing import LSH, merge_points\n",
    "from pyro.ops.newton import newton_step\n",
    "from pyro.infer import SVI, TraceEnum_ELBO\n",
    "from pyro.optim import ClippedAdam, ASGD, SGD\n",
    "from pyro.util import warn_if_nan\n",
    "\n",
    "from datagen_utils import generate_observations, get_positions\n",
    "from plot_utils import plot_solution, plot_exists_prob\n",
    "\n",
    "%matplotlib notebook\n",
    "pyro.enable_validation(True)\n",
    "smoke_test = ('CI' in os.environ)"
   ]
  },
  {
   "cell_type": "markdown",
   "metadata": {},
   "source": [
    "## Model\n",
    "Technically we're not using the model in this version."
   ]
  },
  {
   "cell_type": "code",
   "execution_count": null,
   "metadata": {},
   "outputs": [],
   "source": [
    "@poutine.broadcast\n",
    "def model(args, observations):\n",
    "    with pyro.iarange(\"objects\", args.max_num_objects):\n",
    "        exists = pyro.sample(\"exists\",\n",
    "                             dist.Bernoulli(args.expected_num_objects / args.max_num_objects))\n",
    "        with poutine.scale(scale=exists):\n",
    "            states_loc = pyro.sample(\"states\", dist.Normal(0., 1.).expand([2]).independent(1))\n",
    "            positions = get_positions(states_loc,args.num_frames)\n",
    "    with pyro.iarange(\"detections\", observations.shape[1]):\n",
    "        with pyro.iarange(\"time\", args.num_frames):\n",
    "            # The combinatorial part of the log prob is approximated to allow independence.\n",
    "            is_observed = (observations[..., -1] > 0)\n",
    "            with poutine.scale(scale=is_observed.float()):\n",
    "                assign = pyro.sample(\"assign\",\n",
    "                                     dist.Categorical(torch.ones(args.max_num_objects + 1)))\n",
    "            is_spurious = (assign == args.max_num_objects)\n",
    "            is_real = is_observed & ~is_spurious\n",
    "            num_observed = is_observed.float().sum(-1, True)\n",
    "            # TODO Make these Bernoulli probs more plausible.\n",
    "            pyro.sample(\"is_real\",\n",
    "                        dist.Bernoulli(args.expected_num_objects / observations.shape[1]),\n",
    "                        obs=is_real.float())\n",
    "            pyro.sample(\"is_spurious\",\n",
    "                        dist.Bernoulli(args.expected_num_spurious / observations.shape[1]),\n",
    "                        obs=is_spurious.float())\n",
    "\n",
    "            # The remaining continuous part is exact.\n",
    "            observed_positions = observations[..., 0]\n",
    "            with poutine.scale(scale=is_real.float()):\n",
    "                bogus_position = positions.new_zeros(args.num_frames, 1)\n",
    "                augmented_positions = torch.cat([positions, bogus_position], -1)\n",
    "                predicted_positions = augmented_positions[:, assign]\n",
    "                pyro.sample(\"real_observations\",\n",
    "                            dist.Normal(predicted_positions, args.emission_noise_scale),\n",
    "                            obs=observed_positions)\n",
    "            with poutine.scale(scale=is_spurious.float()):\n",
    "                pyro.sample(\"spurious_observations\", dist.Normal(0., 1.),\n",
    "                            obs=observed_positions)"
   ]
  },
  {
   "cell_type": "code",
   "execution_count": null,
   "metadata": {},
   "outputs": [],
   "source": [
    "def compute_exists_logits(states_loc, replicates):\n",
    "    FUDGE = -5\n",
    "    return states_loc.new_empty(states_loc.shape[0]).fill_(-math.log(replicates) + FUDGE)\n",
    "\n",
    "def compute_assign_logits(positions, observations, replicates, args):\n",
    "    log_likelihood = detection_log_likelihood(positions, observations, args)\n",
    "    assign_logits = log_likelihood[...,:-1] - log_likelihood[...,-1:] - math.log(replicates)\n",
    "    assign_logits[log_likelihood[..., 0] == -float('inf')] = -float('inf')\n",
    "    return assign_logits\n",
    "\n",
    "def detection_log_likelihood(positions, observations, args):\n",
    "    real_dist = dist.Normal(positions.unsqueeze(-2), args.emission_noise_scale)\n",
    "    spurious_dist = dist.Normal(0., 1.)\n",
    "    is_observed = (observations[..., -1] > 0)\n",
    "    observed_positions = observations[..., 0].unsqueeze(-1)\n",
    "    a=(real_dist.log_prob(observed_positions) +\n",
    "                 math.log(args.expected_num_objects * args.emission_prob))\n",
    "    b= (spurious_dist.log_prob(observed_positions) +\n",
    "                                 math.log(args.expected_num_spurious))\n",
    "    assign_logits = torch.cat((a,b), dim=-1)\n",
    "    assign_logits[~is_observed] = -float('inf')\n",
    "    return assign_logits"
   ]
  },
  {
   "cell_type": "markdown",
   "metadata": {},
   "source": [
    "## Guide\n",
    "This guide uses EM."
   ]
  },
  {
   "cell_type": "code",
   "execution_count": null,
   "metadata": {},
   "outputs": [],
   "source": [
    "@poutine.broadcast\n",
    "def guide(args, observations):\n",
    "    # Initialize states randomly from the prior.\n",
    "    states_loc = pyro.param(\"states_loc\", lambda: torch.randn(args.max_num_objects, 2))\n",
    "    is_observed = (observations[..., -1] > 0)\n",
    "    \n",
    "    for em_iter in range(args.em_iters):\n",
    "        states_loc = states_loc.detach()\n",
    "        states_loc.requires_grad = True\n",
    "        positions = get_positions(states_loc,args.num_frames)\n",
    "        replicates = max(1, states_loc.shape[0]/args.expected_num_objects)\n",
    "        # E-step: compute soft assignments\n",
    "        with torch.no_grad():\n",
    "            assign_logits = compute_assign_logits(positions, observations, replicates, args)\n",
    "            exists_logits = compute_exists_logits(states_loc, replicates)\n",
    "            assignment = MarginalAssignmentPersistent(exists_logits, assign_logits,\n",
    "                                              args.bp_iters, bp_momentum=args.bp_momentum)\n",
    "            p_exists = assignment.exists_dist.probs\n",
    "            p_assign = assignment.assign_dist.probs\n",
    "        \n",
    "        log_likelihood = detection_log_likelihood(positions,observations, args)\n",
    "        loss = -(log_likelihood * p_assign).sum()\n",
    "        states_loc, _ = newton_step(loss, states_loc,\n",
    "                                    args.emission_noise_scale # TODO: Play with this\n",
    "                                    )  # M-step\n",
    "        \n",
    "        if args.prune_threshold > 0.0:\n",
    "            states_loc = states_loc[p_exists > args.prune_threshold]\n",
    "        if args.merge_radius >= 0.0:\n",
    "            states_loc, _ = merge_points(states_loc, args.merge_radius)\n",
    "        warn_if_nan(states_loc, 'states_loc')\n",
    "    \n",
    "    positions = get_positions(states_loc,args.num_frames)\n",
    "    replicates = max(1, states_loc.shape[0]/args.expected_num_objects)\n",
    "    assign_logits = compute_assign_logits(positions, observations, replicates, args)\n",
    "    exists_logits = compute_exists_logits(states_loc, replicates)\n",
    "    assignment = MarginalAssignmentPersistent(exists_logits, assign_logits,\n",
    "                                      args.bp_iters, bp_momentum=args.bp_momentum)\n",
    "\n",
    "    with pyro.iarange(\"objects\", states_loc.shape[0]):\n",
    "        exists = pyro.sample(\"exists\", assignment.exists_dist, infer={\"enumerate\": \"parallel\"})\n",
    "        with poutine.scale(scale=exists):\n",
    "            pyro.sample(\"states\", dist.Delta(states_loc).independent(1))\n",
    "    with pyro.iarange(\"detections\", observations.shape[1]):\n",
    "        with poutine.scale(scale=is_observed.float()):\n",
    "            with pyro.iarange(\"time\", args.num_frames):\n",
    "                pyro.sample(\"assign\", assignment.assign_dist, infer={\"enumerate\": \"parallel\"})\n",
    "\n",
    "    return assignment, states_loc"
   ]
  },
  {
   "cell_type": "markdown",
   "metadata": {},
   "source": [
    "## Generate data"
   ]
  },
  {
   "cell_type": "markdown",
   "metadata": {},
   "source": [
    "We'll define a global config object to make it easy to port code to `argparse`."
   ]
  },
  {
   "cell_type": "code",
   "execution_count": null,
   "metadata": {},
   "outputs": [],
   "source": [
    "args = type('Args', (object,), {})  # A fake ArgumentParser.parse_args() result.\n",
    "args.num_frames = 40\n",
    "args.max_num_objects = 400\n",
    "args.expected_num_objects = 2.\n",
    "args.expected_num_spurious = 0.2  # If this is too small, BP will be unstable.\n",
    "args.emission_prob = 0.8          # If this is too large, BP will be unstable.\n",
    "args.emission_noise_scale = 0.1   # If this is too small, SVI will see flat gradients.\n",
    "args.bp_iters = 50\n",
    "args.bp_momentum =0.5\n",
    "args.em_iters = 10\n",
    "args.merge_radius = 0.5\n",
    "args.prune_threshold = 1e-2\n",
    "assert args.max_num_objects >= args.expected_num_objects"
   ]
  },
  {
   "cell_type": "code",
   "execution_count": null,
   "metadata": {},
   "outputs": [],
   "source": [
    "pyro.set_rng_seed(0)\n",
    "true_states, true_positions, observations = generate_observations(args)\n",
    "true_num_objects = len(true_states)\n",
    "max_num_detections = observations.shape[1]\n",
    "assert true_states.shape == (true_num_objects, 2)\n",
    "assert true_positions.shape == (args.num_frames, true_num_objects)\n",
    "assert observations.shape == (args.num_frames, max_num_detections, 1+1)\n",
    "print(\"generated {:d} detections from {:d} objects\".format(\n",
    "    (observations[..., -1] > 0).long().sum(), true_num_objects))"
   ]
  },
  {
   "cell_type": "markdown",
   "metadata": {},
   "source": [
    "## Evaluate\n",
    "10 iterations of EM with and without merging"
   ]
  },
  {
   "cell_type": "code",
   "execution_count": null,
   "metadata": {},
   "outputs": [],
   "source": [
    "pyro.set_rng_seed(1)  # Use a different seed from data generation\n",
    "old_merge_radius= args.merge_radius\n",
    "old_prune_thres= args.prune_threshold\n",
    "args.merge_radius = -1\n",
    "args.prune_threshold = -1\n",
    "pyro.clear_param_store()\n",
    "assignment, states_loc = guide(args, observations)\n",
    "p_exists = assignment.exists_dist.probs\n",
    "positions = get_positions(states_loc, args.num_frames)\n",
    "plot_solution(observations, p_exists, positions, true_positions, args, 'after 10 EM (without prune or merge)')\n",
    "plot_exists_prob(p_exists)\n",
    "args.merge_radius = old_merge_radius\n",
    "args.prune_threshold = old_prune_thres"
   ]
  },
  {
   "cell_type": "code",
   "execution_count": null,
   "metadata": {
    "scrolled": false
   },
   "outputs": [],
   "source": [
    "pyro.set_rng_seed(1)  # Use a different seed from data generation\n",
    "pyro.clear_param_store()\n",
    "assignment, states_loc = guide(args, observations)\n",
    "p_exists = assignment.exists_dist.probs\n",
    "positions = get_positions(states_loc, args.num_frames)\n",
    "plot_solution(observations, p_exists, positions, true_positions, args, 'after 10 EM (with prune and merge)')\n",
    "plot_exists_prob(p_exists)"
   ]
  },
  {
   "cell_type": "code",
   "execution_count": null,
   "metadata": {},
   "outputs": [],
   "source": []
  }
 ],
 "metadata": {
  "kernelspec": {
   "display_name": "Python 3",
   "language": "python",
   "name": "python3"
  },
  "language_info": {
   "codemirror_mode": {
    "name": "ipython",
    "version": 3
   },
   "file_extension": ".py",
   "mimetype": "text/x-python",
   "name": "python",
   "nbconvert_exporter": "python",
   "pygments_lexer": "ipython3",
   "version": "3.6.6"
  }
 },
 "nbformat": 4,
 "nbformat_minor": 2
}
